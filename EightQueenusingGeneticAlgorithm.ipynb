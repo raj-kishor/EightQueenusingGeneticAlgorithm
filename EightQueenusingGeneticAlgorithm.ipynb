{
 "cells": [
  {
   "cell_type": "markdown",
   "metadata": {},
   "source": [
    "Solution of Eight Queen Problem using Genetic Algorithm"
   ]
  },
  {
   "cell_type": "code",
   "execution_count": 11,
   "metadata": {},
   "outputs": [],
   "source": [
    "import random\n",
    "import numpy as np\n",
    "from numpy.random import choice\n",
    "import pandas as pd"
   ]
  },
  {
   "cell_type": "code",
   "execution_count": 12,
   "metadata": {},
   "outputs": [],
   "source": [
    "mutationRate = 0.01 # Setting up Mutation Rate\n",
    "totalPopulation = 8 # Setting up Population Size\n",
    "crossOver = 0.5 # Setting up Cross Over"
   ]
  },
  {
   "cell_type": "code",
   "execution_count": 13,
   "metadata": {},
   "outputs": [],
   "source": [
    "target = \"35716024\" # \"Target Sequence\"\n",
    "alpha_list = [chr(x) for x in range(ord('0'), ord('7') + 1)] \n",
    "alpha_list.append(' ')"
   ]
  },
  {
   "cell_type": "markdown",
   "metadata": {},
   "source": [
    "This code block generates the initial population giving every character an equal chance of being selected. In total 8 sequences are generated."
   ]
  },
  {
   "cell_type": "code",
   "execution_count": 14,
   "metadata": {},
   "outputs": [],
   "source": [
    "# Setting up Initial Population\n",
    "\n",
    "populationData = []\n",
    "fitnessData = []\n",
    "secure_random = random.SystemRandom()\n",
    "for outloop in range(totalPopulation):\n",
    "  randomData = []\n",
    "  fitnessScore = 0\n",
    "  for inloop in range(len(target)):\n",
    "    selectedData = secure_random.choice(alpha_list)\n",
    "    if (selectedData == target[inloop]):\n",
    "      fitnessScore = fitnessScore + 1\n",
    "    randomData.append(selectedData)\n",
    "  populationData.append(randomData)\n",
    "  fitnessData.append(fitnessScore)\n",
    "probabilityDist = []\n",
    "for outloop in range(totalPopulation):\n",
    "  probabilityDist.append(fitnessData[outloop]/len(target))\n",
    "probDataFrame = pd.DataFrame({'String':populationData,'FitnessScore':fitnessData,'Probability':probabilityDist})\n",
    "probDataFrame = probDataFrame.sort_values(['Probability'],ascending=False)\n",
    "probDataFrame = probDataFrame.reset_index(drop=True)"
   ]
  },
  {
   "cell_type": "markdown",
   "metadata": {},
   "source": [
    "Glimpse of the solution space that has been generated as part of the initial population"
   ]
  },
  {
   "cell_type": "code",
   "execution_count": 15,
   "metadata": {},
   "outputs": [
    {
     "data": {
      "text/html": [
       "<div>\n",
       "<style scoped>\n",
       "    .dataframe tbody tr th:only-of-type {\n",
       "        vertical-align: middle;\n",
       "    }\n",
       "\n",
       "    .dataframe tbody tr th {\n",
       "        vertical-align: top;\n",
       "    }\n",
       "\n",
       "    .dataframe thead th {\n",
       "        text-align: right;\n",
       "    }\n",
       "</style>\n",
       "<table border=\"1\" class=\"dataframe\">\n",
       "  <thead>\n",
       "    <tr style=\"text-align: right;\">\n",
       "      <th></th>\n",
       "      <th>String</th>\n",
       "      <th>FitnessScore</th>\n",
       "      <th>Probability</th>\n",
       "    </tr>\n",
       "  </thead>\n",
       "  <tbody>\n",
       "    <tr>\n",
       "      <th>0</th>\n",
       "      <td>[ , 5, 2, 0, 6, 0, 3, 4]</td>\n",
       "      <td>4</td>\n",
       "      <td>0.500</td>\n",
       "    </tr>\n",
       "    <tr>\n",
       "      <th>1</th>\n",
       "      <td>[7, 0, 3, 1, 1, 0, 5, 1]</td>\n",
       "      <td>2</td>\n",
       "      <td>0.250</td>\n",
       "    </tr>\n",
       "    <tr>\n",
       "      <th>2</th>\n",
       "      <td>[6, 5, 0, 7, 4, 3, 6, 6]</td>\n",
       "      <td>1</td>\n",
       "      <td>0.125</td>\n",
       "    </tr>\n",
       "    <tr>\n",
       "      <th>3</th>\n",
       "      <td>[3, 1, 3, 7, 2, 7, 4,  ]</td>\n",
       "      <td>1</td>\n",
       "      <td>0.125</td>\n",
       "    </tr>\n",
       "    <tr>\n",
       "      <th>4</th>\n",
       "      <td>[3, 2, 3, 3, 1, 5, 0, 1]</td>\n",
       "      <td>1</td>\n",
       "      <td>0.125</td>\n",
       "    </tr>\n",
       "  </tbody>\n",
       "</table>\n",
       "</div>"
      ],
      "text/plain": [
       "                     String  FitnessScore  Probability\n",
       "0  [ , 5, 2, 0, 6, 0, 3, 4]             4        0.500\n",
       "1  [7, 0, 3, 1, 1, 0, 5, 1]             2        0.250\n",
       "2  [6, 5, 0, 7, 4, 3, 6, 6]             1        0.125\n",
       "3  [3, 1, 3, 7, 2, 7, 4,  ]             1        0.125\n",
       "4  [3, 2, 3, 3, 1, 5, 0, 1]             1        0.125"
      ]
     },
     "execution_count": 15,
     "metadata": {},
     "output_type": "execute_result"
    }
   ],
   "source": [
    "probDataFrame.head()"
   ]
  },
  {
   "cell_type": "code",
   "execution_count": 16,
   "metadata": {},
   "outputs": [],
   "source": [
    "def maxProb(probabilityDist):\n",
    "  probabilityList = [f for f in set(probabilityDist)]\n",
    "  return (probabilityList[len(probabilityList)-2])"
   ]
  },
  {
   "cell_type": "code",
   "execution_count": 17,
   "metadata": {},
   "outputs": [],
   "source": [
    "# Get Fitness Score function\n",
    "\n",
    "def getFitnessScore(data):\n",
    "    data = ''.join([elem for elem in data])\n",
    "    fitnessScore = 0\n",
    "    for inloop in range(len(target)):\n",
    "      if (data[inloop] == target[inloop]):\n",
    "        fitnessScore = fitnessScore + 1\n",
    "    return fitnessScore"
   ]
  },
  {
   "cell_type": "code",
   "execution_count": 18,
   "metadata": {},
   "outputs": [],
   "source": [
    "def viewElement(data):\n",
    "    data = ''.join([elem for elem in data])\n",
    "    return data"
   ]
  },
  {
   "cell_type": "markdown",
   "metadata": {},
   "source": [
    "This code block applies crossover and mutation to generate new children that will lead to the final Target List \"35716024\""
   ]
  },
  {
   "cell_type": "code",
   "execution_count": 19,
   "metadata": {},
   "outputs": [
    {
     "name": "stdout",
     "output_type": "stream",
     "text": [
      "Generation  0   Fitness Score  4    5205051   2 70311034 3\n",
      "Generation  1   Fitness Score  4    5202034   3 70116034 4\n",
      "Generation  2   Fitness Score  4    5206044   4 50116034 4\n",
      "Generation  3   Fitness Score  4    5606034   4 70116035 3\n",
      "Generation  4   Fitness Score  4    520603    3 70110034 3\n",
      "Generation  5   Fitness Score  4    5606034   4 45606034 4\n",
      "Generation  6   Fitness Score  4   45106034   4 71116034 4\n",
      "Generation  7   Fitness Score  4   70116044   4  1206034 3\n",
      "Generation  8   Fitness Score  4    5206034   4 50116040 3\n",
      "Generation  9   Fitness Score  4   56116034   4  5606034 4\n",
      "Generation  10   Fitness Score  4    4606034   3 50116034 4\n",
      "Generation  11   Fitness Score  4   50111044   3 73116034 4\n",
      "Generation  12   Fitness Score  4   43116034   4 45606033 3\n",
      "Generation  13   Fitness Score  4   45136044   4 70116031 3\n",
      "Generation  14   Fitness Score  4    5676034   4 25606034 4\n",
      "Generation  15   Fitness Score  4   45 06034   4  5666034 4\n",
      "Generation  16   Fitness Score  4   45106074   4  5606734 3\n",
      "Generation  17   Fitness Score  4   71146044   3  5246034 4\n",
      "Generation  18   Fitness Score  4   70116534   3 73116074 4\n",
      "Generation  19   Fitness Score  4   73116034   4  5636074 4\n",
      "Generation  20   Fitness Score  4   15206044   4 44136034 3\n",
      "Generation  21   Fitness Score  4    5666064   4 45 06034 4\n",
      "Generation  22   Fitness Score  4   56116034   4 71116334 3\n",
      "Generation  23   Fitness Score  4    5606534   3  5606014 4\n",
      "Generation  24   Fitness Score  4    5606064   4  5606714 3\n",
      "Generation  25   Fitness Score  4   50116234   3  5602034 3\n",
      "Generation  26   Fitness Score  4   45 06034   4 50106034 3\n",
      "Generation  27   Fitness Score  4   73116033   3 73176034 3\n",
      "Generation  28   Fitness Score  4   43166034   3  5266034 4\n",
      "Generation  29   Fitness Score  4    5266032   3 4311 034 3\n",
      "Generation  30   Fitness Score  4   47136034   3 45 56044 4\n",
      "Generation  31   Fitness Score  4   25 56044   4 70115044 3\n",
      "Generation  32   Fitness Score  4    56760 4   4 45 05034 3\n",
      "Generation  33   Fitness Score  4   2 606044   3 70116034 4\n",
      "Generation  34   Fitness Score  4   45 0603    3 56116014 4\n",
      "Generation  35   Fitness Score  4    5666034   4 65606034 4\n",
      "Generation  36   Fitness Score  4   45106066   3  5666014 4\n",
      "Generation  37   Fitness Score  4    5066034   4  5246014 4\n",
      "Generation  38   Fitness Score  4    5546034   4  5666014 4\n",
      "Generation  39   Fitness Score  4    524601    3  5603034 3\n",
      "Generation  40   Fitness Score  4    1676064   3  566 0 4 3\n",
      "Generation  41   Fitness Score  4   7311603    3 56114074 3\n",
      "Generation  42   Fitness Score  4   73116033   3  5604034 3\n",
      "Generation  43   Fitness Score  4    5636 74   3 73116077 3\n",
      "Generation  44   Fitness Score  4   15506034   4 70166044 3\n",
      "Generation  45   Fitness Score  4    6666074   3  3116014 4\n",
      "Generation  46   Fitness Score  4    7666034   3 43156064 3\n",
      "Generation  47   Fitness Score  5   55 06034   4 75116034 5\n",
      "Generation  48   Fitness Score  5   7511603    4  5266034 4\n",
      "Generation  49   Fitness Score  5   75116044   5  5266014 4\n",
      "Generation  50   Fitness Score  5   7 116034   4 75 16044 5\n",
      "Generation  51   Fitness Score  5   75 160 4   5 75216044 5\n",
      "Generation  52   Fitness Score  5   702160 4   4 75 16144 4\n",
      "Generation  53   Fitness Score  5   75116034   5 75106044 4\n",
      "Generation  54   Fitness Score  5   76116034   4 75116034 5\n",
      "Generation  55   Fitness Score  5   75166044   4 752160 4 5\n",
      "Generation  56   Fitness Score  5   75216064   5 751160 0 4\n",
      "Generation  57   Fitness Score  5   05116034   5 75116034 5\n",
      "Generation  58   Fitness Score  5   75116004   5 72116034 4\n",
      "Generation  59   Fitness Score  5   25116004   5 55116044 5\n",
      "Generation  60   Fitness Score  5   55113064   4 75116044 5\n",
      "Generation  61   Fitness Score  5   75117064   4 75216044 5\n",
      "Generation  62   Fitness Score  5   75016034   5 05116044 5\n",
      "Generation  63   Fitness Score  5   05116041   4 75266044 4\n",
      "Generation  64   Fitness Score  5   15116034   5 75116004 5\n",
      "Generation  65   Fitness Score  5   75112004   4 45116004 5\n",
      "Generation  66   Fitness Score  5   45116004   5 23116004 4\n",
      "Generation  67   Fitness Score  5   7521603    4 75016064 5\n",
      "Generation  68   Fitness Score  5   7 016044   4 75111064 4\n",
      "Generation  69   Fitness Score  5   75316044   5 05116044 5\n",
      "Generation  70   Fitness Score  6   05116024   6 75211044 4\n",
      "Generation  71   Fitness Score  6   05 160 4   5 752160 4 5\n",
      "Generation  72   Fitness Score  6   051110 4   4 15216024 6\n",
      "Generation  73   Fitness Score  6   45216024   6 05116054 5\n",
      "Generation  74   Fitness Score  6   55216024   6 15216024 6\n",
      "Generation  75   Fitness Score  6   15216424   5 55217024 5\n",
      "Generation  76   Fitness Score  6   45216024   6 55116024 6\n",
      "Generation  77   Fitness Score  6   55116026   5 45216024 6\n",
      "Generation  78   Fitness Score  6   45216054   5 05116024 6\n",
      "Generation  79   Fitness Score  6   04116024   5 45216524 5\n",
      "Generation  80   Fitness Score  6   45516024   6 15216064 5\n",
      "Generation  81   Fitness Score  6   25216024   6 47516024 5\n",
      "Generation  82   Fitness Score  7   35216024   7 45215024 5\n",
      "Generation  83   Fitness Score  7   35216724   6 45216224 5\n",
      "Generation  84   Fitness Score  7   35276024   6 05116014 5\n",
      "Generation  85   Fitness Score  7   35213024   6 5521 024 5\n",
      "Generation  86   Fitness Score  7   35216024   7 4 216024 5\n",
      "Generation  87   Fitness Score  7   35216044   6 35216724 6\n",
      "Generation  88   Fitness Score  7   35256024   6 35216024 7\n",
      "Generation  89   Fitness Score  7   3521 024   6 33216024 6\n",
      "Generation  90   Fitness Score  7   35216014   6 35256024 6\n",
      "Generation  91   Fitness Score  7   35216024   7 35216023 6\n",
      "Generation  92   Fitness Score  7   37216024   6 35216024 7\n",
      "Generation  93   Fitness Score  7   35276024   6 35216074 6\n",
      "Generation  94   Fitness Score  7   35216 24   6 65216024 6\n",
      "Generation  95   Fitness Score  7   35216021   6 35210024 6\n",
      "Generation  96   Fitness Score  7   352160 4   6 30216024 6\n",
      "Generation  97   Fitness Score  7   35210024   6 15216024 6\n",
      "Generation  98   Fitness Score  7    5216024   6 35210024 6\n",
      "Generation  99   Fitness Score  7    5216024   6 35216624 6\n",
      "Generation  100   Fitness Score  7   35214024   6 35316024 7\n",
      "Generation  101   Fitness Score  7   33316024   6 35216224 6\n",
      "Generation  102   Fitness Score  7   35211024   6 35212024 6\n",
      "Generation  103   Fitness Score  7   32216024   6 35212024 6\n",
      "Generation  104   Fitness Score  7   35216021   6 35216074 6\n",
      "Generation  105   Fitness Score  7   35214024   6 35216424 6\n",
      "Generation  106   Fitness Score  7   35216624   6 36316024 6\n",
      "Generation  107   Fitness Score  7   65216024   6 35216024 7\n",
      "Generation  108   Fitness Score  7   35 16024   7 35516024 7\n",
      "Generation  109   Fitness Score  7   35516074   6 35211024 6\n",
      "Generation  110   Fitness Score  7   35217024   6 35306024 6\n",
      "Generation  111   Fitness Score  7   35216014   6 32216024 6\n",
      "Generation  112   Fitness Score  7   36216024   6 35516021 6\n",
      "Generation  113   Fitness Score  7   35016024   7 35216224 6\n",
      "Generation  114   Fitness Score  7   35516724   6 36216024 6\n",
      "Generation  115   Fitness Score  7   32316024   6 35216034 6\n",
      "Generation  116   Fitness Score  7   05216024   6  5216024 6\n",
      "Generation  117   Fitness Score  8   35716024   8  5316024 6\n",
      "Generation  118   Fitness Score  8   35716624   7 35236024 6\n",
      "Generation  119   Fitness Score  8   25716024   7 45 16024 6\n",
      "Generation  120   Fitness Score  8   35716023   7 33216024 6\n",
      "Generation  121   Fitness Score  8   3 716024   7 32216024 6\n",
      "Generation  122   Fitness Score  8   31716024   7 35216064 6\n",
      "Generation  123   Fitness Score  8   3 716024   7 30 16024 6\n",
      "Generation  124   Fitness Score  8   32716024   7 37216024 6\n",
      "Generation  125   Fitness Score  8   35016024   7 35716024 8\n",
      "35716024   35716024\n"
     ]
    }
   ],
   "source": [
    "crossOverPoint = int(crossOver*len(target))\n",
    "generationCount = 1000\n",
    "for loop in range(generationCount):\n",
    "  draw=[]\n",
    "  draw.append(probDataFrame[0:1][\"String\"].values[0])\n",
    "  draw.append(probDataFrame[1:2][\"String\"].values[0])\n",
    "  #print('Fitness Scores of Parents ',getFitnessScore(draw[0]),getFitnessScore(draw[1]))\n",
    "  if (getFitnessScore(draw[0])==len(target) | getFitnessScore(draw[1])==len(target)):\n",
    "    print(viewElement(draw[0]),' ',viewElement(draw[1]))\n",
    "    break\n",
    "  child1 = draw[0][0:crossOverPoint]+draw[1][crossOverPoint:]\n",
    "  child2 = draw[1][0:crossOverPoint]+draw[0][crossOverPoint:]\n",
    "  child1[random.randint(0,len(target)-1)] = secure_random.choice(alpha_list)\n",
    "  child2[random.randint(0,len(target)-1)] = secure_random.choice(alpha_list)\n",
    "  populationData.append(child1)\n",
    "  populationData.append(child2)\n",
    "  fitnessData = []\n",
    "  totalPopulation = len(populationData)\n",
    "  for outloop in range(totalPopulation):\n",
    "    fitnessScore = getFitnessScore(populationData[outloop])\n",
    "    fitnessData.append(fitnessScore)\n",
    "  probabilityDist = []\n",
    "  for outloop in range(totalPopulation):\n",
    "    probabilityDist.append(fitnessData[outloop]/sum(fitnessData))\n",
    "  probDataFrame = pd.DataFrame({'String':populationData,'FitnessScore':fitnessData,'Probability':probabilityDist})\n",
    "  probDataFrame = probDataFrame.sort_values(['Probability'],ascending=False)\n",
    "  probDataFrame = probDataFrame.reset_index(drop=True)\n",
    "  print('Generation ',loop,' ','Fitness Score ',probDataFrame[\"FitnessScore\"].max(),' ', ''.join(elem for elem in child1),' ',getFitnessScore(child1),''.join(elem for elem in child2),getFitnessScore(child2))\n"
   ]
  },
  {
   "cell_type": "code",
   "execution_count": null,
   "metadata": {},
   "outputs": [],
   "source": []
  },
  {
   "cell_type": "code",
   "execution_count": null,
   "metadata": {},
   "outputs": [],
   "source": []
  },
  {
   "cell_type": "code",
   "execution_count": null,
   "metadata": {},
   "outputs": [],
   "source": []
  },
  {
   "cell_type": "code",
   "execution_count": null,
   "metadata": {},
   "outputs": [],
   "source": []
  },
  {
   "cell_type": "code",
   "execution_count": null,
   "metadata": {},
   "outputs": [],
   "source": []
  },
  {
   "cell_type": "code",
   "execution_count": null,
   "metadata": {},
   "outputs": [],
   "source": []
  },
  {
   "cell_type": "code",
   "execution_count": null,
   "metadata": {},
   "outputs": [],
   "source": []
  },
  {
   "cell_type": "code",
   "execution_count": null,
   "metadata": {},
   "outputs": [],
   "source": []
  },
  {
   "cell_type": "code",
   "execution_count": null,
   "metadata": {},
   "outputs": [],
   "source": []
  }
 ],
 "metadata": {
  "kernelspec": {
   "display_name": "Python 3",
   "language": "python",
   "name": "python3"
  },
  "language_info": {
   "codemirror_mode": {
    "name": "ipython",
    "version": 3
   },
   "file_extension": ".py",
   "mimetype": "text/x-python",
   "name": "python",
   "nbconvert_exporter": "python",
   "pygments_lexer": "ipython3",
   "version": "3.7.0"
  }
 },
 "nbformat": 4,
 "nbformat_minor": 2
}
